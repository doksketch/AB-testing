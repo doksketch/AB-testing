{
 "cells": [
  {
   "cell_type": "code",
   "execution_count": 69,
   "metadata": {},
   "outputs": [],
   "source": [
    "import numpy as np\n",
    "import pandas as pd\n",
    "from scipy.stats import norm\n",
    "from scipy.stats import probplot\n",
    "from scipy.stats import mannwhitneyu\n",
    "import seaborn as sns\n",
    "import matplotlib.pyplot as plt"
   ]
  },
  {
   "cell_type": "markdown",
   "metadata": {},
   "source": [
    "**Продукт**: \n",
    " - SaaS, подписка, аналитика в соц. сетях. Пользователь может отслеживать свою активность и своих друзей, подписавшись в сервисе\n",
    " \n",
    "**Тестируемое изменение**: \n",
    " - изменение h1 и подписи в кнопке на первом экране главной страницы. Цель – зацепить пользователя"
   ]
  },
  {
   "cell_type": "code",
   "execution_count": 6,
   "metadata": {},
   "outputs": [
    {
     "data": {
      "text/html": [
       "<div>\n",
       "<style scoped>\n",
       "    .dataframe tbody tr th:only-of-type {\n",
       "        vertical-align: middle;\n",
       "    }\n",
       "\n",
       "    .dataframe tbody tr th {\n",
       "        vertical-align: top;\n",
       "    }\n",
       "\n",
       "    .dataframe thead th {\n",
       "        text-align: right;\n",
       "    }\n",
       "</style>\n",
       "<table border=\"1\" class=\"dataframe\">\n",
       "  <thead>\n",
       "    <tr style=\"text-align: right;\">\n",
       "      <th></th>\n",
       "      <th>date</th>\n",
       "      <th>deviceCategory</th>\n",
       "      <th>sourceMedium</th>\n",
       "      <th>experimentVariant</th>\n",
       "      <th>clickButtonOnMain</th>\n",
       "      <th>sessionDuration</th>\n",
       "    </tr>\n",
       "  </thead>\n",
       "  <tbody>\n",
       "    <tr>\n",
       "      <td>1</td>\n",
       "      <td>2019-11-27</td>\n",
       "      <td>desktop</td>\n",
       "      <td>(direct) / (none)</td>\n",
       "      <td>control</td>\n",
       "      <td>1</td>\n",
       "      <td>123.109765</td>\n",
       "    </tr>\n",
       "    <tr>\n",
       "      <td>2</td>\n",
       "      <td>2019-11-27</td>\n",
       "      <td>mobile</td>\n",
       "      <td>maz.com / referral</td>\n",
       "      <td>test</td>\n",
       "      <td>1</td>\n",
       "      <td>135.604001</td>\n",
       "    </tr>\n",
       "    <tr>\n",
       "      <td>3</td>\n",
       "      <td>2019-11-27</td>\n",
       "      <td>mobile</td>\n",
       "      <td>(direct) / (none)</td>\n",
       "      <td>test</td>\n",
       "      <td>1</td>\n",
       "      <td>134.451017</td>\n",
       "    </tr>\n",
       "    <tr>\n",
       "      <td>4</td>\n",
       "      <td>2019-11-27</td>\n",
       "      <td>desktop</td>\n",
       "      <td>google / organic</td>\n",
       "      <td>test</td>\n",
       "      <td>1</td>\n",
       "      <td>130.691087</td>\n",
       "    </tr>\n",
       "    <tr>\n",
       "      <td>5</td>\n",
       "      <td>2019-11-27</td>\n",
       "      <td>mobile</td>\n",
       "      <td>google / organic</td>\n",
       "      <td>control</td>\n",
       "      <td>1</td>\n",
       "      <td>117.617311</td>\n",
       "    </tr>\n",
       "  </tbody>\n",
       "</table>\n",
       "</div>"
      ],
      "text/plain": [
       "         date deviceCategory        sourceMedium experimentVariant  \\\n",
       "1  2019-11-27        desktop   (direct) / (none)           control   \n",
       "2  2019-11-27         mobile  maz.com / referral              test   \n",
       "3  2019-11-27         mobile   (direct) / (none)              test   \n",
       "4  2019-11-27        desktop    google / organic              test   \n",
       "5  2019-11-27         mobile    google / organic           control   \n",
       "\n",
       "   clickButtonOnMain  sessionDuration  \n",
       "1                  1       123.109765  \n",
       "2                  1       135.604001  \n",
       "3                  1       134.451017  \n",
       "4                  1       130.691087  \n",
       "5                  1       117.617311  "
      ]
     },
     "execution_count": 6,
     "metadata": {},
     "output_type": "execute_result"
    }
   ],
   "source": [
    "df = pd.read_csv('hw2_1.csv', encoding='utf-8', delimiter=';', index_col=0)\n",
    "df['sessionDuration'] = pd.to_numeric([i.replace(',','.') for i in df['sessionDuration'].values])\n",
    "df.head()"
   ]
  },
  {
   "cell_type": "code",
   "execution_count": 4,
   "metadata": {},
   "outputs": [
    {
     "data": {
      "text/plain": [
       "(2943, 7)"
      ]
     },
     "execution_count": 4,
     "metadata": {},
     "output_type": "execute_result"
    }
   ],
   "source": [
    "df.shape"
   ]
  },
  {
   "cell_type": "markdown",
   "metadata": {},
   "source": [
    "**Проверим, есть ли значимое изменение в большую или меньшую сторону у клика на целевую кнопку  (контроль – Check, тест – Find out in 30 seconds)**"
   ]
  },
  {
   "cell_type": "markdown",
   "metadata": {},
   "source": [
    "Будем использовать критерий долей для распределения Бернулли. Проверяется гипотеза о параметрах распределений в группах. Если\n",
    "доверительный интервал оценённых разниц распределений близок к нулю, то это значит, что на уровне значимости 95 % мы не сможем \n",
    "отвергнуть нулевую гипотезу."
   ]
  },
  {
   "cell_type": "code",
   "execution_count": 10,
   "metadata": {},
   "outputs": [
    {
     "data": {
      "text/plain": [
       "control    0.504587\n",
       "test       0.495413\n",
       "Name: experimentVariant, dtype: float64"
      ]
     },
     "execution_count": 10,
     "metadata": {},
     "output_type": "execute_result"
    }
   ],
   "source": [
    "df['experimentVariant'].value_counts(normalize=True)"
   ]
  },
  {
   "cell_type": "markdown",
   "metadata": {},
   "source": [
    "Размер целевой и контрольной групп примерно одинаков, это хорошо. Соблюдается условие Z теста для двух групп."
   ]
  },
  {
   "cell_type": "code",
   "execution_count": 17,
   "metadata": {},
   "outputs": [],
   "source": [
    "# Z-статистика для разности двух долей\n",
    "def proportion_diff(test, control, action: str):\n",
    "    #расчёт размеров целевой и контрольной групп\n",
    "    n1 = test.shape[0]\n",
    "    n2 = control.shape[0]\n",
    "    \n",
    "    #оценка долей\n",
    "    p_test =  np.sum(test[action]) / n1\n",
    "    p_control = np.sum(control[action]) / n2\n",
    "    \n",
    "    #оценка разности долей\n",
    "    P = (p_test*n1 + p_control*n2) / (n1 + n2)\n",
    "    \n",
    "    #расчёт Z-статистики\n",
    "    Z = (p_test - p_control) / np.sqrt(P*(1 - P)*(1/n1 + 1/n2))\n",
    "    \n",
    "    return Z"
   ]
  },
  {
   "cell_type": "code",
   "execution_count": 41,
   "metadata": {},
   "outputs": [],
   "source": [
    "# расчёт p-value\n",
    "def proportion_pvalue(Z, method: str):\n",
    "    assert method in ['less', 'greater', 'two-sided'], 'Неверно указан метод'\n",
    "    \n",
    "    #расчёт p-значения в зависимости от типа теста \n",
    "    if method == 'two-sided':\n",
    "        return (1 - norm.cdf(np.abs(Z)))*2\n",
    "    \n",
    "    if method == 'greater':\n",
    "        return 1 - norm.cdf(Z)\n",
    "    \n",
    "    if method == 'less':\n",
    "        return norm.cdf(Z)"
   ]
  },
  {
   "cell_type": "code",
   "execution_count": 22,
   "metadata": {},
   "outputs": [],
   "source": [
    "# расчёт границ доверительного интервала\n",
    "def proportion_confidence(test, control, action: str, alpha: float):\n",
    "    n1 = test.shape[0]\n",
    "    n2 = control.shape[0]\n",
    "    \n",
    "    p_test =  np.sum(test[action]) / n1\n",
    "    p_control = np.sum(control[action]) / n2\n",
    "    \n",
    "    z = norm.ppf(1 - alpha / 2.)\n",
    "    \n",
    "    left_bound = (p_test - p_control) - z * np.sqrt(p_test * (1 - p_test) / n1 + p_control * (1 - p_control) / n2)\n",
    "    right_bound = (p_test - p_control) + z * np.sqrt(p_test * (1 - p_test) / n1 + p_control * (1 - p_control) / n2)\n",
    "    \n",
    "    return (left_bound, right_bound)"
   ]
  },
  {
   "cell_type": "code",
   "execution_count": 43,
   "metadata": {},
   "outputs": [
    {
     "data": {
      "text/plain": [
       "-3.294710114036112"
      ]
     },
     "execution_count": 43,
     "metadata": {},
     "output_type": "execute_result"
    }
   ],
   "source": [
    "proportion_diff(test=df.loc[df['experimentVariant'] == 'test'],\n",
    "                                      control=df.loc[df['experimentVariant'] == 'control'],\n",
    "                                      action='clickButtonOnMain')"
   ]
  },
  {
   "cell_type": "code",
   "execution_count": 44,
   "metadata": {},
   "outputs": [
    {
     "data": {
      "text/plain": [
       "0.0009852325829367015"
      ]
     },
     "execution_count": 44,
     "metadata": {},
     "output_type": "execute_result"
    }
   ],
   "source": [
    "proportion_pvalue(Z=-3.294710114036112, method = 'two-sided')"
   ]
  },
  {
   "cell_type": "code",
   "execution_count": 47,
   "metadata": {},
   "outputs": [
    {
     "data": {
      "text/plain": [
       "(-0.060647203611189734, -0.015496954014449383)"
      ]
     },
     "execution_count": 47,
     "metadata": {},
     "output_type": "execute_result"
    }
   ],
   "source": [
    "proportion_confidence(test=df.loc[df['experimentVariant'] == 'test'],\n",
    "                                      control=df.loc[df['experimentVariant'] == 'control'],\n",
    "                                      action='clickButtonOnMain', alpha=0.05)"
   ]
  },
  {
   "cell_type": "markdown",
   "metadata": {},
   "source": [
    "P значение крайне мало, доверительный интервал довольно узкий и не очень близок к нулю. С вероятностью 95 % мы можем принять\n",
    "альтернативную гипотезу и говорить о том, что изменения в кликах были статистически значимыми."
   ]
  },
  {
   "cell_type": "markdown",
   "metadata": {},
   "source": [
    "**Проверим, изменилось ли время проведенное на сайте в рамках сеанса**."
   ]
  },
  {
   "cell_type": "markdown",
   "metadata": {},
   "source": [
    "Оценим визуально форму и квантили распределения."
   ]
  },
  {
   "cell_type": "code",
   "execution_count": 53,
   "metadata": {},
   "outputs": [
    {
     "data": {
      "image/png": "[encoded data removed]",
      "text/plain": [
       "<Figure size 1008x576 with 2 Axes>"
      ]
     },
     "metadata": {
      "needs_background": "light"
     },
     "output_type": "display_data"
    }
   ],
   "source": [
    "plt.figure(figsize=(14,8))\n",
    "\n",
    "plt.subplot(121)\n",
    "sns.kdeplot(df['sessionDuration'], shade=True, legend=False)\n",
    "plt.xlabel('sessionDuration')\n",
    "\n",
    "plt.subplot(122)\n",
    "probplot(df['sessionDuration'], dist='norm', plot=plt);\n",
    "plt.xlabel('sessionDuration');"
   ]
  },
  {
   "cell_type": "markdown",
   "metadata": {},
   "source": [
    "Выглядит около нормальным. Похоже на распределение Стьюдента, только немного скошено влево. Проверим дисперсии."
   ]
  },
  {
   "cell_type": "code",
   "execution_count": 55,
   "metadata": {},
   "outputs": [
    {
     "data": {
      "text/plain": [
       "94.08869063438061"
      ]
     },
     "execution_count": 55,
     "metadata": {},
     "output_type": "execute_result"
    }
   ],
   "source": [
    "np.var(df.loc[df['experimentVariant'] == 'test', 'sessionDuration'], ddof=1)"
   ]
  },
  {
   "cell_type": "code",
   "execution_count": 56,
   "metadata": {},
   "outputs": [
    {
     "data": {
      "text/plain": [
       "26.868172374172342"
      ]
     },
     "execution_count": 56,
     "metadata": {},
     "output_type": "execute_result"
    }
   ],
   "source": [
    "np.var(df.loc[df['experimentVariant'] == 'control', 'sessionDuration'], ddof=1)"
   ]
  },
  {
   "cell_type": "markdown",
   "metadata": {},
   "source": [
    "А вот дисперсии различаются очень сильно, поэтому прийдётся использовать критерий Манна-Уитни. Посмотрим на формы распределений."
   ]
  },
  {
   "cell_type": "code",
   "execution_count": 61,
   "metadata": {},
   "outputs": [
    {
     "data": {
      "image/png": "[encoded data removed]",
      "text/plain": [
       "<Figure size 1008x576 with 2 Axes>"
      ]
     },
     "metadata": {
      "needs_background": "light"
     },
     "output_type": "display_data"
    }
   ],
   "source": [
    "plt.figure(figsize=(14,8))\n",
    "\n",
    "plt.subplot(121)\n",
    "df.loc[df['experimentVariant'] == 'test', 'sessionDuration'].hist(edgecolor='white')\n",
    "plt.xlabel('test sessionDuration')\n",
    "\n",
    "plt.subplot(122)\n",
    "df.loc[df['experimentVariant'] == 'control', 'sessionDuration'].hist(edgecolor='white')\n",
    "plt.xlabel('control sessionDuration');"
   ]
  },
  {
   "cell_type": "markdown",
   "metadata": {},
   "source": [
    "Формы схожи, условие применимости критерия выполняется."
   ]
  },
  {
   "cell_type": "code",
   "execution_count": 72,
   "metadata": {},
   "outputs": [],
   "source": [
    "# переход от вещественных чисел к рангам\n",
    "def make_ranks(group: str, variable: str, bins: int):\n",
    "    chunk = df[[group, variable]].sort_values(variable)\n",
    "    chunk['ranks'] = pd.cut(chunk[variable].values, bins=bins, labels=False)\n",
    "    \n",
    "    return chunk"
   ]
  },
  {
   "cell_type": "code",
   "execution_count": 73,
   "metadata": {},
   "outputs": [],
   "source": [
    "chunk = make_ranks(group='experimentVariant', variable='sessionDuration', bins=7)"
   ]
  },
  {
   "cell_type": "code",
   "execution_count": 75,
   "metadata": {},
   "outputs": [
    {
     "data": {
      "text/plain": [
       "1.9813230561503416e-267"
      ]
     },
     "execution_count": 75,
     "metadata": {},
     "output_type": "execute_result"
    }
   ],
   "source": [
    "#сравнение вероятности встретить числа в рангах в разных группах\n",
    "stat, p = mannwhitneyu(chunk.loc[chunk['experimentVariant'] == 'test', 'ranks'],\n",
    "                      chunk.loc[chunk['experimentVariant'] == 'control', 'ranks'])\n",
    "p"
   ]
  },
  {
   "cell_type": "markdown",
   "metadata": {},
   "source": [
    "С вероятностью 95 % мы можем принять альтернативную гипотезу и говорить о том, что изменение времени проведения пользователей на сайте статистически значимо. "
   ]
  },
  {
   "cell_type": "code",
   "execution_count": 76,
   "metadata": {},
   "outputs": [
    {
     "data": {
      "text/plain": [
       "count    1458.000000\n",
       "mean      133.059223\n",
       "std         9.699933\n",
       "min       102.340016\n",
       "25%       126.442657\n",
       "50%       133.111728\n",
       "75%       139.691942\n",
       "max       163.630651\n",
       "Name: sessionDuration, dtype: float64"
      ]
     },
     "execution_count": 76,
     "metadata": {},
     "output_type": "execute_result"
    }
   ],
   "source": [
    "df.loc[df['experimentVariant'] == 'test', 'sessionDuration'].describe()"
   ]
  },
  {
   "cell_type": "code",
   "execution_count": 77,
   "metadata": {},
   "outputs": [
    {
     "data": {
      "text/plain": [
       "count    1485.000000\n",
       "mean      120.038040\n",
       "std         5.183452\n",
       "min       100.238001\n",
       "25%       116.552646\n",
       "50%       120.116463\n",
       "75%       123.736227\n",
       "max       134.806096\n",
       "Name: sessionDuration, dtype: float64"
      ]
     },
     "execution_count": 77,
     "metadata": {},
     "output_type": "execute_result"
    }
   ],
   "source": [
    "df.loc[df['experimentVariant'] == 'control', 'sessionDuration'].describe()"
   ]
  },
  {
   "cell_type": "markdown",
   "metadata": {},
   "source": [
    "**Выводы и гипотезы**"
   ]
  },
  {
   "cell_type": "markdown",
   "metadata": {},
   "source": [
    "По результатам A/B теста изменения в кликах и времени проведения с вероятностью 95% являются статистически значимыми. Однако,\n",
    "можно заметить, что в контрольной группе квартильные оценки показали меньшее время проведения пользователей на сайте. Поскольку\n",
    "наш продукт SAAS аналитика в соцсетях, который должен цеплять, то я бы говорил о том, что с практической точки зрения изменения\n",
    "вызвали скорее негативный эффект. Хотя, возможно, мы попали в то время и на тех пользователей, которые в принципе меньше сидят\n",
    "на сайте."
   ]
  },
  {
   "cell_type": "markdown",
   "metadata": {},
   "source": [
    "Ремарка: нужно дополнительно проверить сплит, вдруг это одни и те же пользователи. Также хорошо бы проанализировать\n",
    "маркетинговые и финансовые показатели продукта(компании) после A/B теста, включая динамику посещаемости."
   ]
  }
 ],
 "metadata": {
  "kernelspec": {
   "display_name": "Python 3",
   "language": "python",
   "name": "python3"
  },
  "language_info": {
   "codemirror_mode": {
    "name": "ipython",
    "version": 3
   },
   "file_extension": ".py",
   "mimetype": "text/x-python",
   "name": "python",
   "nbconvert_exporter": "python",
   "pygments_lexer": "ipython3",
   "version": "3.7.4"
  }
 },
 "nbformat": 4,
 "nbformat_minor": 2
}
