{
 "cells": [
  {
   "cell_type": "code",
   "execution_count": 52,
   "metadata": {},
   "outputs": [],
   "source": [
    "import numpy as np\n",
    "import pandas as pd\n",
    "import statsmodels.stats.api as sms"
   ]
  },
  {
   "cell_type": "markdown",
   "metadata": {},
   "source": [
    "Продукт – подписка на репетиторов по ЕГЭ. Аудитория может приобрести пакет уроков по разным предметам. Учеба проходит на онлайн-платформе по программам обучения с уклоном в конкретную область: можно решать задачки, смотреть лекции и заниматься с репетитором."
   ]
  },
  {
   "cell_type": "code",
   "execution_count": 40,
   "metadata": {},
   "outputs": [
    {
     "data": {
      "text/html": [
       "<div>\n",
       "<style scoped>\n",
       "    .dataframe tbody tr th:only-of-type {\n",
       "        vertical-align: middle;\n",
       "    }\n",
       "\n",
       "    .dataframe tbody tr th {\n",
       "        vertical-align: top;\n",
       "    }\n",
       "\n",
       "    .dataframe thead th {\n",
       "        text-align: right;\n",
       "    }\n",
       "</style>\n",
       "<table border=\"1\" class=\"dataframe\">\n",
       "  <thead>\n",
       "    <tr style=\"text-align: right;\">\n",
       "      <th></th>\n",
       "      <th>program_name</th>\n",
       "      <th>performance</th>\n",
       "      <th>is_ege</th>\n",
       "      <th>age</th>\n",
       "    </tr>\n",
       "  </thead>\n",
       "  <tbody>\n",
       "    <tr>\n",
       "      <td>1</td>\n",
       "      <td>math&amp;phys</td>\n",
       "      <td>0,60620346525684</td>\n",
       "      <td>no</td>\n",
       "      <td>17</td>\n",
       "    </tr>\n",
       "    <tr>\n",
       "      <td>2</td>\n",
       "      <td>math&amp;phys</td>\n",
       "      <td>0,648849559854716</td>\n",
       "      <td>yes</td>\n",
       "      <td>18</td>\n",
       "    </tr>\n",
       "    <tr>\n",
       "      <td>3</td>\n",
       "      <td>math&amp;phys</td>\n",
       "      <td>0,729141345340759</td>\n",
       "      <td>no</td>\n",
       "      <td>17</td>\n",
       "    </tr>\n",
       "    <tr>\n",
       "      <td>4</td>\n",
       "      <td>math&amp;phys</td>\n",
       "      <td>0,863283115997911</td>\n",
       "      <td>yes</td>\n",
       "      <td>17</td>\n",
       "    </tr>\n",
       "    <tr>\n",
       "      <td>5</td>\n",
       "      <td>math&amp;phys</td>\n",
       "      <td>0,580672772414982</td>\n",
       "      <td>no</td>\n",
       "      <td>17</td>\n",
       "    </tr>\n",
       "  </tbody>\n",
       "</table>\n",
       "</div>"
      ],
      "text/plain": [
       "  program_name        performance is_ege  age\n",
       "1    math&phys   0,60620346525684     no   17\n",
       "2    math&phys  0,648849559854716    yes   18\n",
       "3    math&phys  0,729141345340759     no   17\n",
       "4    math&phys  0,863283115997911    yes   17\n",
       "5    math&phys  0,580672772414982     no   17"
      ]
     },
     "execution_count": 40,
     "metadata": {},
     "output_type": "execute_result"
    }
   ],
   "source": [
    "df = pd.read_csv('hw1.csv', encoding='utf-8', delimiter=';', index_col=0)\n",
    "df.head()"
   ]
  },
  {
   "cell_type": "code",
   "execution_count": 41,
   "metadata": {},
   "outputs": [],
   "source": [
    "df['performance'] = pd.to_numeric([i.replace(',','.') for i in df['performance'].values])"
   ]
  },
  {
   "cell_type": "code",
   "execution_count": 27,
   "metadata": {},
   "outputs": [
    {
     "data": {
      "text/plain": [
       "russ&lit     0.714286\n",
       "math&phys    0.285714\n",
       "Name: program_name, dtype: float64"
      ]
     },
     "execution_count": 27,
     "metadata": {},
     "output_type": "execute_result"
    }
   ],
   "source": [
    "df['program_name'].value_counts(normalize=True)"
   ]
  },
  {
   "cell_type": "markdown",
   "metadata": {},
   "source": [
    "Посмотрим, входят ли группы программ в один доверительный интервал по успеваемости."
   ]
  },
  {
   "cell_type": "code",
   "execution_count": 51,
   "metadata": {},
   "outputs": [
    {
     "data": {
      "text/html": [
       "<div>\n",
       "<style scoped>\n",
       "    .dataframe tbody tr th:only-of-type {\n",
       "        vertical-align: middle;\n",
       "    }\n",
       "\n",
       "    .dataframe tbody tr th {\n",
       "        vertical-align: top;\n",
       "    }\n",
       "\n",
       "    .dataframe thead th {\n",
       "        text-align: right;\n",
       "    }\n",
       "</style>\n",
       "<table border=\"1\" class=\"dataframe\">\n",
       "  <thead>\n",
       "    <tr style=\"text-align: right;\">\n",
       "      <th></th>\n",
       "      <th>count</th>\n",
       "      <th>mean</th>\n",
       "      <th>std</th>\n",
       "      <th>min</th>\n",
       "      <th>25%</th>\n",
       "      <th>50%</th>\n",
       "      <th>75%</th>\n",
       "      <th>max</th>\n",
       "    </tr>\n",
       "    <tr>\n",
       "      <th>program_name</th>\n",
       "      <th></th>\n",
       "      <th></th>\n",
       "      <th></th>\n",
       "      <th></th>\n",
       "      <th></th>\n",
       "      <th></th>\n",
       "      <th></th>\n",
       "      <th></th>\n",
       "    </tr>\n",
       "  </thead>\n",
       "  <tbody>\n",
       "    <tr>\n",
       "      <td>math&amp;phys</td>\n",
       "      <td>10.0</td>\n",
       "      <td>0.720606</td>\n",
       "      <td>0.126262</td>\n",
       "      <td>0.524715</td>\n",
       "      <td>0.616865</td>\n",
       "      <td>0.740393</td>\n",
       "      <td>0.835597</td>\n",
       "      <td>0.877870</td>\n",
       "    </tr>\n",
       "    <tr>\n",
       "      <td>russ&amp;lit</td>\n",
       "      <td>25.0</td>\n",
       "      <td>0.797763</td>\n",
       "      <td>0.110245</td>\n",
       "      <td>0.605356</td>\n",
       "      <td>0.706888</td>\n",
       "      <td>0.792832</td>\n",
       "      <td>0.887047</td>\n",
       "      <td>0.996762</td>\n",
       "    </tr>\n",
       "  </tbody>\n",
       "</table>\n",
       "</div>"
      ],
      "text/plain": [
       "              count      mean       std       min       25%       50%  \\\n",
       "program_name                                                            \n",
       "math&phys      10.0  0.720606  0.126262  0.524715  0.616865  0.740393   \n",
       "russ&lit       25.0  0.797763  0.110245  0.605356  0.706888  0.792832   \n",
       "\n",
       "                   75%       max  \n",
       "program_name                      \n",
       "math&phys     0.835597  0.877870  \n",
       "russ&lit      0.887047  0.996762  "
      ]
     },
     "execution_count": 51,
     "metadata": {},
     "output_type": "execute_result"
    }
   ],
   "source": [
    "df.groupby('program_name')['performance'].describe()"
   ]
  },
  {
   "cell_type": "code",
   "execution_count": 77,
   "metadata": {},
   "outputs": [
    {
     "data": {
      "text/plain": [
       "(0.6302830568697645, 0.8109280397373847)"
      ]
     },
     "execution_count": 77,
     "metadata": {},
     "output_type": "execute_result"
    }
   ],
   "source": [
    "sms.DescrStatsW(df.loc[df['program_name'] == 'math&phys', 'performance'], ddof=1).tconfint_mean()"
   ]
  },
  {
   "cell_type": "code",
   "execution_count": 64,
   "metadata": {},
   "outputs": [
    {
     "data": {
      "text/plain": [
       "(0.7522563835989913, 0.8432703759062805)"
      ]
     },
     "execution_count": 64,
     "metadata": {},
     "output_type": "execute_result"
    }
   ],
   "source": [
    "sms.DescrStatsW(df.loc[df['program_name'] == 'russ&lit', 'performance'], ddof=1).tconfint_mean()"
   ]
  },
  {
   "cell_type": "markdown",
   "metadata": {},
   "source": [
    "Доверительные интервалы для среднего получились довольно широкими, причём для math&phys границы шире. Посмотрим на дисперсию."
   ]
  },
  {
   "cell_type": "code",
   "execution_count": 94,
   "metadata": {},
   "outputs": [
    {
     "data": {
      "text/plain": [
       "0.012154011714718157"
      ]
     },
     "execution_count": 94,
     "metadata": {},
     "output_type": "execute_result"
    }
   ],
   "source": [
    "sms.DescrStatsW(df.loc[df['program_name'] == 'russ&lit', 'performance']).var_ddof(1)"
   ]
  },
  {
   "cell_type": "code",
   "execution_count": 95,
   "metadata": {},
   "outputs": [
    {
     "data": {
      "text/plain": [
       "0.01594212715880291"
      ]
     },
     "execution_count": 95,
     "metadata": {},
     "output_type": "execute_result"
    }
   ],
   "source": [
    "sms.DescrStatsW(df.loc[df['program_name'] == 'math&phys', 'performance']).var_ddof(1)"
   ]
  },
  {
   "cell_type": "markdown",
   "metadata": {},
   "source": [
    "Дисперсия в группах отличается всего примерно на 0.003 п.п. - различие крайне незначительное. Поэтому можно утверждать, что\n",
    "широкие границы интервалов обусловлены малым размером выборок. Построим доверительные интервалы для дисперсии."
   ]
  },
  {
   "cell_type": "code",
   "execution_count": 116,
   "metadata": {},
   "outputs": [
    {
     "name": "stdout",
     "output_type": "stream",
     "text": [
      "Левая граница для math&phys 0.007543593292808949\n",
      "Правая граница для math&phys 0.053140423862676374\n"
     ]
    }
   ],
   "source": [
    "#таблица с распределением хи квадрат - альфа пополам и 1-альфа пополам для 95%\n",
    "print(f\"Левая граница для math&phys {(len(df[df['program_name'] == 'math&phys']) - 1) * np.var(df.loc[df['program_name'] == 'math&phys', 'performance'], ddof=1) / 19.02}\")\n",
    "print(f\"Правая граница для math&phys {(len(df[df['program_name'] == 'math&phys']) - 1) * np.var(df.loc[df['program_name'] == 'math&phys', 'performance'], ddof=1) / 2.7}\")"
   ]
  },
  {
   "cell_type": "code",
   "execution_count": 117,
   "metadata": {},
   "outputs": [
    {
     "name": "stdout",
     "output_type": "stream",
     "text": [
      "Левая граница для russ&lit 0.007410982752876925\n",
      "Правая граница для russ&lit 0.02352389364138998\n"
     ]
    }
   ],
   "source": [
    "print(f\"Левая граница для russ&lit {(len(df[df['program_name'] == 'russ&lit']) - 1) * np.var(df.loc[df['program_name'] == 'russ&lit', 'performance'], ddof=1) / 39.36}\")\n",
    "print(f\"Правая граница для russ&lit {(len(df[df['program_name'] == 'russ&lit']) - 1) * np.var(df.loc[df['program_name'] == 'russ&lit', 'performance'], ddof=1) / 12.4}\")"
   ]
  },
  {
   "cell_type": "markdown",
   "metadata": {},
   "source": [
    "Уже чуть получше, но можно и лучше. Границы доверительных интервалов диперсий пересекаются, причём границы для ruslit входят в\n",
    "mathphys(опять влияние развмера). С вероятностью 95 процентов можем утверждать, что по результатам успеваемости две программы одинаковые. Однако, нужно иметь в виду риск ошибки в результате малого объёма выборки(наблюдений)."
   ]
  },
  {
   "cell_type": "markdown",
   "metadata": {},
   "source": [
    "Посмотрим у какой группы is_ege разброс в успеваемости больше."
   ]
  },
  {
   "cell_type": "code",
   "execution_count": 75,
   "metadata": {},
   "outputs": [
    {
     "data": {
      "text/html": [
       "<div>\n",
       "<style scoped>\n",
       "    .dataframe tbody tr th:only-of-type {\n",
       "        vertical-align: middle;\n",
       "    }\n",
       "\n",
       "    .dataframe tbody tr th {\n",
       "        vertical-align: top;\n",
       "    }\n",
       "\n",
       "    .dataframe thead th {\n",
       "        text-align: right;\n",
       "    }\n",
       "</style>\n",
       "<table border=\"1\" class=\"dataframe\">\n",
       "  <thead>\n",
       "    <tr style=\"text-align: right;\">\n",
       "      <th></th>\n",
       "      <th>count</th>\n",
       "      <th>mean</th>\n",
       "      <th>std</th>\n",
       "      <th>min</th>\n",
       "      <th>25%</th>\n",
       "      <th>50%</th>\n",
       "      <th>75%</th>\n",
       "      <th>max</th>\n",
       "    </tr>\n",
       "    <tr>\n",
       "      <th>is_ege</th>\n",
       "      <th></th>\n",
       "      <th></th>\n",
       "      <th></th>\n",
       "      <th></th>\n",
       "      <th></th>\n",
       "      <th></th>\n",
       "      <th></th>\n",
       "      <th></th>\n",
       "    </tr>\n",
       "  </thead>\n",
       "  <tbody>\n",
       "    <tr>\n",
       "      <td>no</td>\n",
       "      <td>25.0</td>\n",
       "      <td>0.768338</td>\n",
       "      <td>0.128912</td>\n",
       "      <td>0.524715</td>\n",
       "      <td>0.674487</td>\n",
       "      <td>0.752014</td>\n",
       "      <td>0.874809</td>\n",
       "      <td>0.996762</td>\n",
       "    </tr>\n",
       "    <tr>\n",
       "      <td>yes</td>\n",
       "      <td>10.0</td>\n",
       "      <td>0.794170</td>\n",
       "      <td>0.090735</td>\n",
       "      <td>0.648850</td>\n",
       "      <td>0.753843</td>\n",
       "      <td>0.780868</td>\n",
       "      <td>0.862301</td>\n",
       "      <td>0.930949</td>\n",
       "    </tr>\n",
       "  </tbody>\n",
       "</table>\n",
       "</div>"
      ],
      "text/plain": [
       "        count      mean       std       min       25%       50%       75%  \\\n",
       "is_ege                                                                      \n",
       "no       25.0  0.768338  0.128912  0.524715  0.674487  0.752014  0.874809   \n",
       "yes      10.0  0.794170  0.090735  0.648850  0.753843  0.780868  0.862301   \n",
       "\n",
       "             max  \n",
       "is_ege            \n",
       "no      0.996762  \n",
       "yes     0.930949  "
      ]
     },
     "execution_count": 75,
     "metadata": {},
     "output_type": "execute_result"
    }
   ],
   "source": [
    "df.groupby('is_ege')['performance'].describe()"
   ]
  },
  {
   "cell_type": "markdown",
   "metadata": {},
   "source": [
    "Средние значения, стандартное отклонение и медиана отличаются незначительно, а вот минимумы и максимумы довольно сильно отличаются. Для группы yes межквартильный размах существенно уже, а стандартное отклонение меньше."
   ]
  },
  {
   "cell_type": "code",
   "execution_count": 90,
   "metadata": {},
   "outputs": [
    {
     "data": {
      "text/plain": [
       "0.008232850516950553"
      ]
     },
     "execution_count": 90,
     "metadata": {},
     "output_type": "execute_result"
    }
   ],
   "source": [
    "sms.DescrStatsW(df.loc[df['is_ege'] == 'yes', 'performance']).var_ddof(1)"
   ]
  },
  {
   "cell_type": "code",
   "execution_count": 91,
   "metadata": {},
   "outputs": [
    {
     "data": {
      "text/plain": [
       "0.016618214678310043"
      ]
     },
     "execution_count": 91,
     "metadata": {},
     "output_type": "execute_result"
    }
   ],
   "source": [
    "sms.DescrStatsW(df.loc[df['is_ege'] == 'no', 'performance']).var_ddof(1)"
   ]
  },
  {
   "cell_type": "markdown",
   "metadata": {},
   "source": [
    "Диперсия же между группами практически не различается - отличие примерно всего на 0.008 п.п. Поэтому можно утверждать, что\n",
    "статистические различия обусловлены малым размером выборки(наблюдений) для yes."
   ]
  },
  {
   "cell_type": "markdown",
   "metadata": {},
   "source": [
    "**Гипотезы и выводы**\n",
    " - малый объём выборки: есть риск получить ошибку в тестах на распределения и сделать некорректные выводы о генеральной совокупности\n",
    " - малый объём наблюдений по группам program_name и is_age: аналогичный риск, описанный выше + риск получить некорректные результаты при сравнении групп. Пока можно говорить о том, что с вероятностью 95% различий в программах по успеваемости и различий в успеваемости между сдающими и несдающими ЕГЭ в этом году не наблюдается.\n",
    " - необходимо определить достаточный(более комфортный) объём выборки и наблюдений по группам и/или хорошо поработать со\n",
    " сплитом."
   ]
  }
 ],
 "metadata": {
  "kernelspec": {
   "display_name": "Python 3",
   "language": "python",
   "name": "python3"
  },
  "language_info": {
   "codemirror_mode": {
    "name": "ipython",
    "version": 3
   },
   "file_extension": ".py",
   "mimetype": "text/x-python",
   "name": "python",
   "nbconvert_exporter": "python",
   "pygments_lexer": "ipython3",
   "version": "3.7.4"
  }
 },
 "nbformat": 4,
 "nbformat_minor": 2
}
